{
 "cells": [
  {
   "cell_type": "markdown",
   "metadata": {},
   "source": [
    "# My notebook 1 the Data Science"
   ]
  },
  {
   "cell_type": "markdown",
   "metadata": {},
   "source": [
    "## ## Introduction to Data Science Languages\n",
    "In the field of data science, various programming languages are used for analysis and visualization. Here are some commonly used data science languages:\n",
    "\n",
    "- R\n",
    "-  MATLAB\n",
    "- SQL\n",
    "- MatplotlibPython\n",
    "\n",
    "\n"
   ]
  },
  {
   "cell_type": "markdown",
   "metadata": {},
   "source": [
    "## ## Data Science Libraries\n",
    "\n",
    "- Pandas\n",
    "- NumPy\n",
    "- Matplotlib\n",
    "\n",
    "\n"
   ]
  },
  {
   "cell_type": "markdown",
   "metadata": {},
   "source": [
    "## # Define variables\n",
    "a= 6\n",
    "b=3\n",
    "\n",
    "\n",
    "\n",
    "\n"
   ]
  },
  {
   "cell_type": "markdown",
   "metadata": {},
   "source": [
    "## Data Science Tools\n",
    "\n",
    "| Tool         | Description                              |\n",
    "|--------------|------------------------------------------|\n",
    "| Jupyter      | Interactive notebook for data analysis   |\n",
    "| TensorFlow   | Open-source machine \n",
    "\n",
    "\n",
    "\n",
    "\n",
    "\n"
   ]
  },
  {
   "cell_type": "markdown",
   "metadata": {},
   "source": [
    "## # Define variables\n",
    "a= 6\n",
    "b=3\n",
    "\n",
    "\n",
    "\n",
    "\n"
   ]
  },
  {
   "cell_type": "code",
   "execution_count": 4,
   "metadata": {},
   "outputs": [
    {
     "name": "stdout",
     "output_type": "stream",
     "text": [
      "Multiplication result: 18\n",
      "Addition result: 9\n"
     ]
    }
   ],
   "source": [
    "### Arithmetic Expressions\n",
    "\n",
    "a = 6\n",
    "b = 3\n",
    "\n",
    "# Multiply\n",
    "multiply_result = a * b\n",
    "print(\"Multiplication result:\", multiply_result)\n",
    "\n",
    "# Add\n",
    "add_result = a + b\n",
    "print(\"Addition result:\", add_result)\n"
   ]
  },
  {
   "cell_type": "markdown",
   "metadata": {},
   "source": [
    "# # Definir la cantidad de minutos\n",
    "minutes = 150\n"
   ]
  },
  {
   "cell_type": "code",
   "execution_count": 5,
   "metadata": {},
   "outputs": [
    {
     "name": "stdout",
     "output_type": "stream",
     "text": [
      "150 minutes is equal to 2.5 hours\n"
     ]
    }
   ],
   "source": [
    "minutes = 150\n",
    "\n",
    "# Convert minutes to hours\n",
    "hours = minutes / 60\n",
    "\n",
    "print(minutes, \"minutes is equal to\", hours, \"hours\")"
   ]
  },
  {
   "cell_type": "markdown",
   "metadata": {},
   "source": [
    "# ## Objetivos\n",
    "\n",
    "- Aprender sobre herramientas de ciencia de datos.\n",
    "- Practicar expresiones aritméticas.\n",
    "- Compartir conocimientos sobre lenguajes y bibliotecas de ciencia de datos.\n",
    "\n",
    "\n"
   ]
  },
  {
   "cell_type": "markdown",
   "metadata": {},
   "source": [
    "# ## Autor\n",
    "\n",
    "Este cuaderno fue creado por [Nombre del autor].\n",
    "Date: [Date] Affiliation: [Your Affiliation or Organization]\n"
   ]
  }
 ],
 "metadata": {
  "kernelspec": {
   "display_name": "Python 3 (ipykernel)",
   "language": "python",
   "name": "python3"
  },
  "language_info": {
   "codemirror_mode": {
    "name": "ipython",
    "version": 3
   },
   "file_extension": ".py",
   "mimetype": "text/x-python",
   "name": "python",
   "nbconvert_exporter": "python",
   "pygments_lexer": "ipython3",
   "version": "3.10.13"
  },
  "vscode": {
   "interpreter": {
    "hash": "3ad933181bd8a04b432d3370b9dc3b0662ad032c4dfaa4e4f1596c548f763858"
   }
  }
 },
 "nbformat": 4,
 "nbformat_minor": 4
}
